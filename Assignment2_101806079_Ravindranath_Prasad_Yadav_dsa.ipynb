{
 "cells": [
  {
   "cell_type": "code",
   "execution_count": 22,
   "metadata": {},
   "outputs": [],
   "source": [
    " \n",
    "//DSA ASSIGNMENT 2 \n",
    "\n",
    "//RAVINDRANATH PRASAD YADAV   101806079   ECE 4\n",
    "\n",
    "#include<iostream>\n",
    "using namespace std;\n"
   ]
  },
  {
   "cell_type": "code",
   "execution_count": 32,
   "metadata": {},
   "outputs": [],
   "source": [
    "//QUESTION 1 If a one dimensional integer type array with its size and length given, write the code in C++ language to create functions to  perform the following operations \n",
    "int elements[5]={1,4,5,3,6}; //Array defined with 5 elements\n"
   ]
  },
  {
   "cell_type": "code",
   "execution_count": 27,
   "metadata": {},
   "outputs": [],
   "source": [
    "//1)  i display()\n",
    "void display(int element[5]) //Function definition for displaying the contents of the given array\n",
    "{\n",
    "cout<<\"the elements of the array are :  \"<<endl;\n",
    "for(int i=0;i<5;i++) \n",
    "cout<<element[i]<<\" \";\n",
    "}\n"
   ]
  },
  {
   "cell_type": "code",
   "execution_count": 28,
   "metadata": {},
   "outputs": [
    {
     "name": "stdout",
     "output_type": "stream",
     "text": [
      "the elements of the array are :  \n",
      "1 4 5 3 6 "
     ]
    }
   ],
   "source": [
    "display(elements);  // function call"
   ]
  },
  {
   "cell_type": "code",
   "execution_count": 33,
   "metadata": {},
   "outputs": [
    {
     "name": "stdout",
     "output_type": "stream",
     "text": [
      "1 4 5 3 6 100 "
     ]
    }
   ],
   "source": [
    "//1)  ii add/append(x)\n",
    "void append(int x) //Function to add an element to existing array\n",
    "{\n",
    "int temp[6]; //Defining a temporary array with length one greater than the size of the original array\n",
    "int j=0;\n",
    "for(int i=0;i<5;i++) \n",
    "{\n",
    "temp[j]=elements[i];\n",
    "j++;\n",
    "}\n",
    "temp[j]=x; //Adding an element x to the existing elements of the array\n",
    "for(int i=0;i<6;i++)\n",
    "cout<<temp[i]<<\" \"; \n",
    "}\n",
    "append(100); //Function calling"
   ]
  },
  {
   "cell_type": "code",
   "execution_count": 34,
   "metadata": {},
   "outputs": [
    {
     "name": "stdout",
     "output_type": "stream",
     "text": [
      "final array is \n",
      "1 4 50 5 3 6 "
     ]
    }
   ],
   "source": [
    "//1)  iii Insert(index,x)\n",
    "void insert(int index,int x) //insertion of an element at a particular index in the given array\n",
    "{\n",
    "int i;\n",
    "for (i=5;i>=index-1;i--) \n",
    "elements[i+1] = elements[i];\n",
    "elements[index] = x;\n",
    "cout<<\"final array is \"<<endl;\n",
    "for (i = 0;i<= 5; i++)\n",
    "cout<<elements[i]<<\" \"; \n",
    "}\n",
    "insert(2,50); //Function calling by paasing the value of index and x\n"
   ]
  },
  {
   "cell_type": "code",
   "execution_count": 35,
   "metadata": {},
   "outputs": [
    {
     "name": "stdout",
     "output_type": "stream",
     "text": [
      "The new array after deleting the element is \n",
      "1 4 50 3 "
     ]
    }
   ],
   "source": [
    "//1) iv. Delete(x)\n",
    "void deleted(int x) //Function definition for deleting the element x from the given array\n",
    "{\n",
    "int i,count;\n",
    "count=0;\n",
    "for(i=0; i<5; i++)\n",
    "{\n",
    "if(elements[i]==x) // find the index of the element x\n",
    "{\n",
    "for(int j=i; j<4; j++)\n",
    "{\n",
    "elements[j]=elements[j+1]; //shift the elements to the left after deletion\n",
    "}\n",
    "count++;\n",
    "break;\n",
    "}\n",
    "}\n",
    "if(count==0)\n",
    "{\n",
    "cout<<\"element does'nt exist\"<<endl;\n",
    "}\n",
    "else\n",
    "{\n",
    "cout<<\"The new array after deleting the element is \"<<endl; \n",
    "for(i=0; i<4; i++)\n",
    "{\n",
    "cout<<elements[i]<<\" \";\n",
    "}\n",
    "}\n",
    "}\n",
    "deleted(5); //Function calling by passing x to be deleted\n"
   ]
  },
  {
   "cell_type": "code",
   "execution_count": 37,
   "metadata": {},
   "outputs": [
    {
     "name": "stdout",
     "output_type": "stream",
     "text": [
      "The element 4 is present at location 1\n"
     ]
    }
   ],
   "source": [
    "//1) v.LinearSearch(s)\n",
    "void linearsearch(int s) //Function definition for searching of element\n",
    "{\n",
    "for(int i=0;i<5;i++) \n",
    "{\n",
    "if(elements[i]==s)\n",
    "cout<<\"The element \"<<s<<\" is present at location \"<<i<<endl; \n",
    "}\n",
    "}\n",
    "linearsearch(4);"
   ]
  },
  {
   "cell_type": "code",
   "execution_count": 42,
   "metadata": {},
   "outputs": [],
   "source": [
    "//1)vi. BinarySearch(x)\n",
    "int elements[5]={1,5,10,50,100};//sorted array\n"
   ]
  },
  {
   "cell_type": "code",
   "execution_count": 46,
   "metadata": {},
   "outputs": [
    {
     "name": "stdout",
     "output_type": "stream",
     "text": [
      "element 50 found in the array at the location 4\n"
     ]
    }
   ],
   "source": [
    "void binarySearch(int x) //Function definiton binary search of the element x\n",
    "{\n",
    "int first = 0;\n",
    "int n=5;\n",
    "int last = n-1;\n",
    "int middle = (first+last)/2;\n",
    "while (first <= last)\n",
    "{\n",
    "    if(elements[middle]<x) //If x is greater, ignore the left half\n",
    "        {\n",
    "            first = middle + 1;\n",
    "        }\n",
    "    else if(elements[middle] == x) //Check if the element is present at the mid\n",
    "        {\n",
    "            cout<<\"element \"<<x<<\" found in the array at the location \"<<middle+1<<endl;\n",
    "            break;\n",
    "        }\n",
    "    else\n",
    "        {\n",
    "            last = middle - 1; //If x is smaller, ignore the right half\n",
    "        }\n",
    "middle = (first + last)/2;\n",
    "}\n",
    "    \n",
    "    if(first > last) //when index  has checked all the values till end of the array\n",
    "            {\n",
    "                cout<<\"Element \"<<x<<\" not found in the array\";\n",
    "            }\n",
    "}\n",
    "binarySearch(50); //function calling by passing the value of x\n"
   ]
  },
  {
   "cell_type": "code",
   "execution_count": 50,
   "metadata": {},
   "outputs": [
    {
     "name": "stdout",
     "output_type": "stream",
     "text": [
      "Element at the index 2 is 10"
     ]
    }
   ],
   "source": [
    "//1)vii. Get(index)\n",
    "void get(int index) //function definition to get the element at index\n",
    "{\n",
    "cout<<\"Element at the index \"<<index<<\" is \"<<elements[index]; \n",
    "}\n",
    "get(2); //Function calling by passing the value of x"
   ]
  },
  {
   "cell_type": "code",
   "execution_count": 51,
   "metadata": {},
   "outputs": [
    {
     "name": "stdout",
     "output_type": "stream",
     "text": [
      "1 5 10 55 100 "
     ]
    }
   ],
   "source": [
    "//1)viii.Set(index,x)\n",
    "void set(int index,int x) //Function definition for setting an element at a particular index\n",
    "{\n",
    "elements[index] = x;\n",
    "for(int i=0;i<5;i++) \n",
    "cout<<elements[i]<<\" \";\n",
    "}\n",
    "set(3, 55); //Function calling by passing value of the index and x\n"
   ]
  },
  {
   "cell_type": "code",
   "execution_count": 54,
   "metadata": {},
   "outputs": [
    {
     "name": "stdout",
     "output_type": "stream",
     "text": [
      "The maximum number  in the array is 100 at index 4\n"
     ]
    }
   ],
   "source": [
    "//1)ix. Max()\n",
    "void max() //function definiton for finding the maximum of all the elements in the given\n",
    "{\n",
    "int location=0;\n",
    "int maximum =elements[0];\n",
    "for(int i=0;i<5;i++) //calculate the value of the largest number\n",
    "{\n",
    "\n",
    "    if(elements[i]>maximum)\n",
    "    {\n",
    "        maximum=elements[i];\n",
    "        location=i; //Location of the largest value int the array\n",
    "    }\n",
    "}\n",
    "cout<<\"The maximum number  in the array is \"<<maximum <<\" at index \"<<location<<endl;\n",
    "}\n",
    "max(); //function calling"
   ]
  },
  {
   "cell_type": "code",
   "execution_count": 56,
   "metadata": {},
   "outputs": [
    {
     "name": "stdout",
     "output_type": "stream",
     "text": [
      "The minimum number present in the array is 1 at the index 0\n"
     ]
    }
   ],
   "source": [
    "//1)x.Min()\n",
    "void min() //minimum of all the elements in the given array\n",
    "{\n",
    "int location=0;\n",
    "int minimum=elements[0];\n",
    "for(int i=0;i<5;i++) //calculate the value of the smallest number\n",
    "{\n",
    "if(elements[i]<minimum)\n",
    "{\n",
    "minimum=elements[i];\n",
    "location=i;\n",
    "}\n",
    "}\n",
    "cout<<\"The minimum number present in the array is \"<<minimum <<\" at the index \"<<location<<endl;\n",
    "}\n",
    "min(); //function call"
   ]
  },
  {
   "cell_type": "code",
   "execution_count": 57,
   "metadata": {},
   "outputs": [
    {
     "name": "stdout",
     "output_type": "stream",
     "text": [
      "100 55 10 5 1 "
     ]
    }
   ],
   "source": [
    "//1)xi.Reverse()\n",
    "void reverse() // reversing the elements of the array\n",
    "{\n",
    "int temp[5];\n",
    "int j = 4;\n",
    "for(int i=0;i<5;i++) // store the contents of the array in reversed manner\n",
    "{\n",
    "    temp[j]=elements[i];\n",
    "    j--;\n",
    "}\n",
    "    \n",
    "for(int i=0;i<5;i++)\n",
    "cout<<temp[i]<<\" \"; \n",
    "\n",
    "}\n",
    "reverse(); //function call\n"
   ]
  },
  {
   "cell_type": "code",
   "execution_count": 58,
   "metadata": {},
   "outputs": [
    {
     "name": "stdout",
     "output_type": "stream",
     "text": [
      "100 1 5 10 55 "
     ]
    }
   ],
   "source": [
    "//1)xii.Shift()\n",
    "void shift() //shifting the elements of the array\n",
    "{\n",
    "int temp,i;\n",
    "temp=elements[4];\n",
    "for(i=4;i>0;i--) //Shift elements of the array\n",
    "{\n",
    "elements[i]=elements[i-1];\n",
    "}\n",
    "elements[0]=temp;\n",
    "for(i=0;i<5;i++)\n",
    "{\n",
    "cout<<elements[i]<<\" \"; // shifted elements\n",
    "}\n",
    "}\n",
    "shift(); //Function call"
   ]
  },
  {
   "cell_type": "code",
   "execution_count": 65,
   "metadata": {},
   "outputs": [
    {
     "name": "stdout",
     "output_type": "stream",
     "text": [
      "Array after right rotation\n",
      "10 55 100 1 5 "
     ]
    }
   ],
   "source": [
    "//1)xiii.Rotate()\n",
    "void rotate() // rotating the elements of the array\n",
    "{\n",
    "int n=2; //Number of times array to be rotated\n",
    "\n",
    "    for(int i=0;i<n;i++)\n",
    "    {\n",
    "        int j,last;\n",
    "        last=elements[4];\n",
    "            for(j=4;j>0;j--)\n",
    "                {\n",
    "                    elements[j]=elements[j-1]; //Shift element of array by one\n",
    "                }\n",
    "         elements[0]=last; //Last element of array will be added to the start of array.\n",
    "    }\n",
    "cout<<\"Array after right rotation\"<<endl; //Display\n",
    "    \n",
    "for(int i=0;i<5;i++)\n",
    "{\n",
    "    cout<<elements[i]<<\" \";\n",
    "}\n",
    "    \n",
    "}\n",
    "rotate();"
   ]
  },
  {
   "cell_type": "code",
   "execution_count": 85,
   "metadata": {},
   "outputs": [
    {
     "name": "stdout",
     "output_type": "stream",
     "text": [
      "The array is not sorted\n"
     ]
    }
   ],
   "source": [
    "//Q2. For a given array, write functions to perform the following:\n",
    "//2)i.Check if an array is sorted\n",
    "void sorted() // if the elements in the array are sorted \n",
    "{   \n",
    "int array[5]={10,160,111,147,146}; //Array definition\n",
    "int a=0;\n",
    "for(int i=0;i<5;i++) //checking if the elements in the array are sorted or not\n",
    "    {\n",
    "        if(array[i] > array[i+1])\n",
    "        {a=1;\n",
    "        break;\n",
    "        }\n",
    "    }\n",
    "\n",
    " if(a==1)\n",
    "    cout<<\"The array is not sorted\"<<endl;\n",
    "    \n",
    "else \n",
    "    cout<<\"The array is sorted\"<<endl;\n",
    "    \n",
    "}\n",
    "sorted(); //Function call\n"
   ]
  },
  {
   "cell_type": "code",
   "execution_count": 3,
   "metadata": {},
   "outputs": [
    {
     "name": "stdout",
     "output_type": "stream",
     "text": [
      "Enter the size of the first array\n",
      "5\n",
      "Enter the size of the second array\n",
      "2\n",
      "Enter the elements of the first array\n",
      "1 2 4 23 12\n",
      "Enter the elements of the second array\n",
      "43 21\n",
      "The array with contents of first and second array \n",
      "1 2 4 23 12 43 21 "
     ]
    }
   ],
   "source": [
    "//2) ii.Merge arrays\n",
    "void mergearray()\n",
    "{\n",
    "int a[50],b[50],n1,n2,i,j,k;\n",
    "cout<<\"Enter the size of the first array\"<<endl;\n",
    "cin>>n1; // the number of elements in the first array\n",
    "    \n",
    "cout<<\"Enter the size of the second array\"<<endl;\n",
    "cin>>n2; //the number of elements in the second array\n",
    "    \n",
    "cout<<\"Enter the elements of the first array\"<<endl;\n",
    "for(int i=0;i<n1;i++)\n",
    "cin>>a[i]; //Entering the elements of the first array\n",
    "    \n",
    "cout<<\"Enter the elements of the second array\"<<endl;\n",
    "for(int i=0;i<n2;i++)\n",
    "cin>>b[i]; //Entering the elements of the second array\n",
    "    \n",
    "i=0;\n",
    "j=0;\n",
    "k=0;\n",
    "    \n",
    "int newarray[50];\n",
    "int n=0;\n",
    "n=n1+n2;\n",
    "    \n",
    "while(i<n1) //Merging the elements of the first and second array into newarray\n",
    "{\n",
    "newarray[k]=a[i];\n",
    "k++;\n",
    "i++;\n",
    "}\n",
    "    \n",
    "while(j<n2)\n",
    "{\n",
    "newarray[k]=b[j];\n",
    "k++;\n",
    "j++;\n",
    "}\n",
    "    \n",
    "cout<<\"The array with contents of first and second array \"<<endl;\n",
    "for(i=0;i<n;i++) //Printing elements of new array \n",
    "cout<<newarray[i]<<\" \";\n",
    "    \n",
    "}\n",
    "mergearray(); //Funtion call\n"
   ]
  },
  {
   "cell_type": "code",
   "execution_count": 2,
   "metadata": {},
   "outputs": [
    {
     "name": "stdout",
     "output_type": "stream",
     "text": [
      "Enter the size of the first array\n",
      "3\n",
      "Enter the size of the second array\n",
      "4\n",
      "Enter the elements of the first array\n",
      "1 2 3\n",
      "Enter the elements of the second array\n",
      "10 5 2 1\n"
     ]
    }
   ],
   "source": [
    "//2)iii.Set operations on array: Union, Intersection\n",
    "int a[50],b[50],n1,n2;\n",
    "cout<<\"Enter the size of the first array\"<<endl;\n",
    "cin>>n1; //User inputs the number of elements in the first array\n",
    "cout<<\"Enter the size of the second array\"<<endl;\n",
    "cin>>n2; //User inputs the number of elements in the second array\n",
    "cout<<\"Enter the elements of the first array\"<<endl;\n",
    "for(int i=0;i<n1;i++)\n",
    "cin>>a[i]; //Entering the elements of the first array\n",
    "cout<<\"Enter the elements of the second array\"<<endl;\n",
    "for(int i=0;i<n2;i++)\n",
    "cin>>b[i]; //Entering the elements of the second array\n",
    "\n"
   ]
  },
  {
   "cell_type": "code",
   "execution_count": 3,
   "metadata": {},
   "outputs": [
    {
     "name": "stdout",
     "output_type": "stream",
     "text": [
      "Union of the two arrays is\n",
      "1\n",
      "2\n",
      "3\n",
      "10\n",
      "5\n",
      "2\n",
      "1\n"
     ]
    }
   ],
   "source": [
    "void unionArray() //union of two arrays\n",
    "{\n",
    "int uni[40],i,j,k,n,m;\n",
    "for(i=0,j=0,k=0;i<n1&&j<n2;)\n",
    "{\n",
    "    if(a[i]<b[j])\n",
    "        {\n",
    "            uni[k]=a[i];\n",
    "            i++;\n",
    "            k++;\n",
    "        }\n",
    "    else if(a[i]>b[j])\n",
    "        {\n",
    "            uni[k]=b[j];\n",
    "            j++;\n",
    "            k++;\n",
    "        }\n",
    "    else\n",
    "        {\n",
    "            uni[k]=a[i];\n",
    "            i++;\n",
    "            j++;\n",
    "            k++;\n",
    "        }\n",
    "}\n",
    "//Storing the union elements in a new array\n",
    "if(i<n1)\n",
    "{\n",
    "for(;i<n1;++i)\n",
    "{\n",
    "uni[k]=a[i];\n",
    "k++;\n",
    "}\n",
    "}\n",
    "else if(j<n2)\n",
    "{\n",
    "for(;j<n2;++j)\n",
    "{\n",
    "uni[k]=b[j];\n",
    "k++;\n",
    "}\n",
    "}\n",
    "cout<<\"Union of the two arrays is\"<<endl; \n",
    "for(i=0;i<k;++i)\n",
    "{\n",
    "cout<<uni[i]<<endl;\n",
    "}\n",
    "}\n",
    "unionArray(); //function call\n"
   ]
  },
  {
   "cell_type": "code",
   "execution_count": 4,
   "metadata": {},
   "outputs": [
    {
     "name": "stdout",
     "output_type": "stream",
     "text": [
      "Enter size of first array:\n",
      "4\n",
      "Enter elements of first array in ascending order\n",
      "1 2 3 4\n",
      "\n",
      "Enter size of second array:\n",
      "3\n",
      "Enter elements of second array in ascending order\n",
      "3 5 43 \n",
      "The intersected array is\n",
      "3 "
     ]
    }
   ],
   "source": [
    "void intersection() //intesecting two arrays\n",
    "{\n",
    "int a[20],b[20],u[40],i,j,n1,n2;\n",
    "    \n",
    "cout<<\"Enter size of first array:\"<<endl; // the number of elements in the first array\n",
    "cin>>n1;\n",
    "    \n",
    "cout<<\"Enter elements of first array in ascending order\"<<endl; \n",
    "for(i=0;i<n1;++i)\n",
    "{\n",
    "    cin>>a[i];\n",
    "}\n",
    "    \n",
    "cout<<\"\\nEnter size of second array:\"<<endl; // the number of elements in the second array\n",
    "cin>>n2;\n",
    "    \n",
    "cout<<\"Enter elements of second array in ascending order\"<<endl; \n",
    "for(i=0;i<n2;++i)\n",
    "{\n",
    "    cin>>b[i];\n",
    "}\n",
    "    \n",
    "i = 0, j = 0;\n",
    "    \n",
    "cout<<\"The intersected array is\"<<endl; \n",
    "    \n",
    "while (i<n1 && j<n2)\n",
    "    {\n",
    "        if (a[i]<b[j])\n",
    "        i++;\n",
    "\n",
    "        else if (b[j]<a[i])\n",
    "        j++;\n",
    "    \n",
    "        else //the else condition  a[i] == b[j]\n",
    "        {\n",
    "            cout<<b[j]<<\" \";\n",
    "            i++;\n",
    "            j++;\n",
    "        }\n",
    "    }\n",
    "}\n",
    "intersection(); //Function call"
   ]
  },
  {
   "cell_type": "code",
   "execution_count": 15,
   "metadata": {},
   "outputs": [],
   "source": [
    "//q3) For a given array, write functions to perform the following:\n",
    "int arr[6]={1,3,5,7,9,11}; \n",
    "\n"
   ]
  },
  {
   "cell_type": "code",
   "execution_count": 19,
   "metadata": {},
   "outputs": [
    {
     "name": "stdout",
     "output_type": "stream",
     "text": [
      "The element 11 is present at location 5\n"
     ]
    }
   ],
   "source": [
    "//3) i.Finding single element in an array\n",
    "void find(int x) \n",
    "{\n",
    "for(int i=0;i<6;i++)\n",
    "    {\n",
    "        if(arr[i]==x)\n",
    "            cout<<\"The element \" <<x <<\" is present at location \"<<i <<endl;\n",
    "    }\n",
    "\n",
    "}\n",
    "find(11); //Function call\n"
   ]
  },
  {
   "cell_type": "code",
   "execution_count": 20,
   "metadata": {},
   "outputs": [
    {
     "name": "stdout",
     "output_type": "stream",
     "text": [
      "Enter the number of elements to find\n",
      "4\n",
      "Enter the elements to find\n",
      "1 11 3 7\n",
      "The element 1 is found at location 0\n",
      "The element 11 is found at location 5\n",
      "The element 3 is found at location 1\n",
      "The element 7 is found at location 3\n"
     ]
    }
   ],
   "source": [
    "//3) ii.Finding multiple elements in an array\n",
    "void findingmultiple() // finding multiple elements in a single array\n",
    "{\n",
    "int a,b[50],c;\n",
    "c=0;\n",
    "    \n",
    "cout<<\"Enter the number of elements to find\"<<endl; //the length of the array\n",
    "cin>>a;\n",
    "    \n",
    "cout<<\"Enter the elements to find\"<<endl; // the elements of the array\n",
    "for(int i=0;i<a;i++)\n",
    "cin>>b[i];\n",
    "    \n",
    "while(c<a) //searching multiple elements\n",
    "{\n",
    "    for(int i=0;i<6;i++)\n",
    "    {\n",
    "        if(arr[i]==b[c])\n",
    "        {\n",
    "        cout<<\"The element \"<<b[c]<<\" is found at location \"<<i<<endl;\n",
    "        }\n",
    "    }\n",
    "c++;\n",
    "}\n",
    "}\n",
    "findingmultiple(); //Function calls\n"
   ]
  },
  {
   "cell_type": "code",
   "execution_count": 3,
   "metadata": {},
   "outputs": [
    {
     "name": "stdout",
     "output_type": "stream",
     "text": [
      "Enter the size of the array\n",
      "5\n",
      "Enter the elements of the array\n",
      "1 1\n",
      "2 2 1\n",
      "The duplicate element is 2 at the location 3\n",
      "The duplicate element is 1 at the location 1\n"
     ]
    }
   ],
   "source": [
    "//3 iii.Finding duplicates in a sorted array\n",
    "void findduplicate() // finding duplicate elements in sorted array\n",
    "{\n",
    "    int size,a[50];\n",
    "    cout<<\"Enter the size of the array\"<<endl; // the length of the array\n",
    "    cin>>size;\n",
    "\n",
    "    cout<<\"Enter the elements of the array\"<<endl; // the elements of the array\n",
    "    for(int i=0;i<size;i++)\n",
    "    cin>>a[i];\n",
    "\n",
    "    for(int i=size;i>0;i--) // finding the duplicate elements\n",
    "    {\n",
    "        if(a[i]==a[i-1])\n",
    "        cout<<\"The duplicate element is \"<<a[i]<<\" at the location \"<<i<<endl;\n",
    "    }\n",
    "}\n",
    "findduplicate(); //Function call\n"
   ]
  },
  {
   "cell_type": "markdown",
   "metadata": {},
   "source": [
    "3)iv.\tFinding duplicates in an unsorted array"
   ]
  },
  {
   "cell_type": "code",
   "execution_count": 4,
   "metadata": {},
   "outputs": [
    {
     "name": "stdout",
     "output_type": "stream",
     "text": [
      "Enter the size of the array\n",
      "5\n",
      "Enter the elements of the array\n",
      "1 50 3 20 1\n",
      "The duplicate elements are\n",
      "1 "
     ]
    }
   ],
   "source": [
    "//3)iv. Finding duplicates in an unsorted array\n",
    "void Duplicate() //finding duplicate elements in unsorted array\n",
    "{\n",
    "    int size,a[50];\n",
    "    cout<<\"Enter the size of the array\"<<endl; //User inputs the length of the array\n",
    "    cin>>size;\n",
    "\n",
    "    cout<<\"Enter the elements of the array\"<<endl; //User inputs the elements of the array\n",
    "    for(int i=0;i<size;i++)\n",
    "    cin>>a[i];\n",
    "\n",
    "    cout<<\"The duplicate elements are\"<<endl;\n",
    "    for(int i=0;i<size;i++) // finding the duplicate elements\n",
    "    {\n",
    "        if(a[abs(a[i])]>=0)\n",
    "        a[abs(a[i])]= -a[abs(a[i])];\n",
    "        else\n",
    "        cout<<abs(a[i])<<\" \";\n",
    "        \n",
    "    }\n",
    "}\n",
    "Duplicate(); //Function call\n"
   ]
  },
  {
   "cell_type": "code",
   "execution_count": 2,
   "metadata": {},
   "outputs": [
    {
     "name": "stdout",
     "output_type": "stream",
     "text": [
      "enter the size of array5\n",
      "enter the elements into array1 2 3 4 5\n",
      "enter the sum value to find pairs5\n",
      "pair is[1,4]pair is[2,3]pair is[3,2]pair is[4,1]"
     ]
    }
   ],
   "source": [
    "//3)v.Finding a pair of elements with sum k void pairsum() { int size, k,a[50]; cout<<\"enter the size of array\"; cin>>size;\n",
    "void pairsum() //find pair which sums to k\n",
    "{\n",
    " int a[50],size,k;\n",
    "    \n",
    "    cout<<\"enter the size of array\"; // enter size of array\n",
    "    cin>>size;\n",
    "    \n",
    "cout<<\"enter the elements into array\"; //enter elements into array\n",
    "for(int i=0; i<size; i++)\n",
    "{\n",
    "    cin>>a[i];\n",
    "}\n",
    "    \n",
    " cout<<\"enter the sum value to find pairs\";// enter sum value to check the pairs\n",
    " cin>>k;\n",
    "\n",
    "for(int i=0; i<size; i++)\n",
    "    {\n",
    "        for(int j=0; j<size; j++)\n",
    "             {\n",
    "                 if(k== a[i]+a[j])\n",
    "                 {\n",
    "                     cout<<\"pair is[\" <<a[i] <<\",\" <<a[j] <<\"]\";\n",
    "                  }\n",
    "             }\n",
    "    }\n",
    "} \n",
    "pairsum();//function call\n",
    "\n"
   ]
  },
  {
   "cell_type": "code",
   "execution_count": 2,
   "metadata": {},
   "outputs": [
    {
     "name": "stdout",
     "output_type": "stream",
     "text": [
      "enter the size of array10\n",
      "enter the elements in sorted ordder into array1 8 9 40 26 33 32 5 10 11\n",
      "enter the sum value to find pairs41\n",
      "pair is[1,40]pair is[8,33]pair is[9,32]pair is[40,1]pair is[33,8]pair is[32,9]"
     ]
    }
   ],
   "source": [
    "//3vi.Finding a pair of elements with sum k in sorted array\n",
    "void pairsum() //find pair which sums to k\n",
    "{\n",
    " int a[50],size,k;\n",
    "    \n",
    "    cout<<\"enter the size of array\"; // enter size of array\n",
    "    cin>>size;\n",
    "    \n",
    "cout<<\"enter the elements in sorted ordder into array\"; //enter elements into array with sorting\n",
    "for(int i=0; i<size; i++)\n",
    "{\n",
    "    cin>>a[i];\n",
    "}\n",
    "    \n",
    " cout<<\"enter the sum value to find pairs\";// enter sum value to check the pairs\n",
    " cin>>k;\n",
    "\n",
    "for(int i=0; i<size; i++)\n",
    "    {\n",
    "        for(int j=0; j<size; j++)\n",
    "             {\n",
    "                 if(k== a[i]+a[j])\n",
    "                 {\n",
    "                     cout<<\"pair is[\" <<a[i] <<\",\" <<a[j] <<\"]\";\n",
    "                  }\n",
    "             }\n",
    "    }\n",
    "} \n",
    "pairsum();//function call\n"
   ]
  },
  {
   "cell_type": "code",
   "execution_count": 3,
   "metadata": {},
   "outputs": [
    {
     "name": "stdout",
     "output_type": "stream",
     "text": [
      "enter the size of array6\n",
      "enter the elements into array1 10 3 50 49 6\n",
      "maximum is : 50  minimum is :  1"
     ]
    }
   ],
   "source": [
    "//3 vii.Finding max and min in a single scan\n",
    "void maxmin()// find max min at a time\n",
    "{\n",
    "    int a[50],size,max,min;\n",
    "    max=a[0];//initialize first element as max\n",
    "    min=a[0];//initialize first element as min\n",
    "        cout<<\"enter the size of array\"; // enter size of array\n",
    "    cin>>size;\n",
    "    \n",
    "    cout<<\"enter the elements into array\"; //enter elements into array\n",
    "    for(int i=0; i<size; i++)\n",
    "    {\n",
    "        cin>>a[i];\n",
    "    }\n",
    "    \n",
    "    for(int i=0 ; i<size; i++)\n",
    "    {\n",
    "        if(a[i]> max)\n",
    "        {\n",
    "            max=a[i];//max value updating\n",
    "        }\n",
    "        if(a[i]<min)\n",
    "        {\n",
    "            min=a[i];//min value updating\n",
    "        }\n",
    "    }\n",
    "    cout<<\"maximum is : \"<<max<<\"  minimum is :  \"<<min;\n",
    "}\n",
    "maxmin();//function call"
   ]
  },
  {
   "cell_type": "code",
   "execution_count": 11,
   "metadata": {},
   "outputs": [],
   "source": [
    "//4 For a given Linked List (LL), write programs to perform the following functions\n",
    "struct node\n",
    "{\n",
    "    int data;\n",
    "    node *next;\n",
    "};"
   ]
  },
  {
   "cell_type": "code",
   "execution_count": 5,
   "metadata": {},
   "outputs": [
    {
     "name": "stdout",
     "output_type": "stream",
     "text": [
      "enter the number of elements you want to enter 5\n",
      "enter the elements1 2 3 4 5\n"
     ]
    }
   ],
   "source": [
    "node *temp,*newnode;\n",
    "node *head= NULL; //head pointer of linked list \n",
    "\n",
    "//storing elements in linkedlist.\n",
    "\n",
    "int n, i=0,value; \n",
    "cout<<\"enter the number of elements you want to enter \";\n",
    "cin>>n;\n",
    "\n",
    "cout<<\"enter the elements\";\n",
    "while(i<n)//runs untill desired number of elements are entered\n",
    "    {\n",
    "    newnode=new node;\n",
    "    cin>>value;//input data\n",
    "    newnode->data=value; // storing data in node\n",
    "    newnode->next=NULL; // storing null pointer for address\n",
    "        if(head==NULL) //for first iteration when node is created i=0\n",
    "            {\n",
    "                head=newnode;//replacing the value of head with the address of our new node\n",
    "                temp=newnode;\n",
    "            }\n",
    "        else        //for the consecutive node and when iterations (i>=1)\n",
    "            {\n",
    "                temp->next=newnode;//current head is changed to current addres of newnode from the previous iterated addres of new node\n",
    "                temp=newnode;\n",
    "            }\n",
    "    \n",
    "    i++;//incrementing i\n",
    "    }\n",
    "\n"
   ]
  },
  {
   "cell_type": "markdown",
   "metadata": {},
   "source": [
    "# //4 i.Display the elements of a LL\n",
    "temp=head;\n",
    "cout<<\"displaying the elements of linked list\";\n",
    "while(temp!=NULL)\n",
    "{\n",
    "    cout<<temp->data <<\"->\";\n",
    "    temp=temp->next;\n",
    "}"
   ]
  },
  {
   "cell_type": "code",
   "execution_count": 37,
   "metadata": {},
   "outputs": [
    {
     "name": "stdout",
     "output_type": "stream",
     "text": [
      "sum is : 15\n",
      " count is :5"
     ]
    }
   ],
   "source": [
    "//4 ii.Count and sum the nodes of a LL\n",
    "int count=0,sum=0;\n",
    "temp=head;\n",
    "while(temp!=NULL)\n",
    "{\n",
    "    sum+= temp->data; //sum=sum + data\n",
    "    count++; //incrementing count\n",
    "    temp= temp->next;\n",
    "}\n",
    "cout<<\"sum is : \"<<sum;\n",
    "cout<<\"\\n count is :\"<<count;"
   ]
  },
  {
   "cell_type": "code",
   "execution_count": 45,
   "metadata": {},
   "outputs": [
    {
     "name": "stdout",
     "output_type": "stream",
     "text": [
      "enter key element to find4\n",
      "search element is found"
     ]
    }
   ],
   "source": [
    "//4 iii.Search for a key element in a LL\n",
    "int key;\n",
    "cout<<\"enter key element to find\";\n",
    "cin>>key;\n",
    "temp=head;\n",
    "while(temp!=NULL)\n",
    "{\n",
    " if(key==temp->data) //check if element found\n",
    " cout<<\"search element is found\";\n",
    "    temp=temp->next;\n",
    "}"
   ]
  },
  {
   "cell_type": "code",
   "execution_count": 14,
   "metadata": {},
   "outputs": [
    {
     "name": "stdout",
     "output_type": "stream",
     "text": [
      "enter the node you want to delete3\n",
      "displaying the elements of linked list1->2->4->5->"
     ]
    }
   ],
   "source": [
    "//4 iv.Delete an element from a LL\n",
    "node *p, *q;\n",
    "int e;\n",
    "cout<<\"enter the node you want to delete\";\n",
    "cin>>e;\n",
    "q=head;\n",
    "for(i=0;i<e-1;i++)//traversing to the element we want to delete\n",
    "{\n",
    "    p=q;\n",
    "    q=q->next;\n",
    "}\n",
    "p->next=q->next;\n",
    "q->next=NULL;\n",
    "\n",
    "temp=head;\n",
    "cout<<\"displaying the elements of linked list\";//displaying after deleting the node\n",
    "while(temp!=NULL)\n",
    "{\n",
    "    cout<<temp->data <<\"->\";\n",
    "    temp=temp->next;\n",
    "}"
   ]
  },
  {
   "cell_type": "code",
   "execution_count": 9,
   "metadata": {},
   "outputs": [
    {
     "name": "stdout",
     "output_type": "stream",
     "text": [
      "\n",
      "Linked list is sorted !!\n"
     ]
    }
   ],
   "source": [
    "//4 v.Check if a LL is sorted\n",
    "node* temp;\n",
    "    int flag=0;\n",
    "    if(head==NULL)\n",
    "    {\n",
    "        cout<<\"\\nLinked List is empty!!\";\n",
    "        exit(0);\n",
    "    }\n",
    "    else\n",
    "    {\n",
    "        for(temp=head;temp->next!=NULL;temp=temp->next)\n",
    "        {\n",
    "            if(temp->data>temp->next->data)\n",
    "            {\n",
    "                flag=1;\n",
    "                break;\n",
    "            }\n",
    "        }\n",
    "        if(flag==0)\n",
    "            cout<<\"\\nLinked list is sorted !!\\n\";\n",
    "        else\n",
    "            cout<<\"\\nLinked List is not sorted!!\\n\";\n",
    "    }\n"
   ]
  },
  {
   "cell_type": "code",
   "execution_count": 23,
   "metadata": {},
   "outputs": [],
   "source": [
    "class linkedList //creation of class linked lsit\n",
    "{\n",
    "public:\n",
    "node *head,*tail; //Pointer to store the head and tail of the linked list\n",
    "linkedList()\n",
    "{\n",
    "head=NULL;\n",
    "tail=NULL;\n",
    "}\n",
    "void createlist() //Function to create linked list\n",
    "{\n",
    "int i=1;\n",
    "int number;\n",
    "while(i)\n",
    "{\n",
    "cout<<\"Enter the number\";\n",
    "cin>>number;\n",
    "AddNode(number); //calling function to add a node\n",
    "cout<<\"How many more elements?\";\n",
    "cin>>i;\n",
    "}\n",
    "}\n",
    "void AddNode(int n) // function to add a node to linked list\n",
    "{\n",
    "node *tmp=new node;\n",
    "tmp->data=n;\n",
    "tmp->next=NULL;\n",
    "if(head == NULL)\n",
    "{\n",
    "head=tmp;\n",
    "tail=tmp;\n",
    "}\n",
    "else\n",
    "{\n",
    "tail->next=tmp;\n",
    "tail=tail->next;\n",
    "}\n",
    "}\n",
    "\n",
    "};\n",
    "linkedList ll; // creation of an object of class linked list\n",
    "struct node* ptr;\n"
   ]
  },
  {
   "cell_type": "code",
   "execution_count": 24,
   "metadata": {},
   "outputs": [
    {
     "name": "stdout",
     "output_type": "stream",
     "text": [
      "Enter the elements of 1st linked list Enter the number2\n",
      "How many more elements?1\n",
      "Enter the number4\n",
      "How many more elements?2\n",
      "Enter the number1 2\n",
      "How many more elements?Enter the number0\n",
      "How many more elements?0\n",
      "\n",
      " Enter the elements of 2nd linked list Enter the number1\n",
      "How many more elements?2\n",
      "Enter the number56\n",
      "How many more elements?0\n"
     ]
    }
   ],
   "source": [
    "linkedList ll1,ll2; //creating two linked lists\n",
    "cout<<\"Enter the elements of 1st linked list \";\n",
    "ll1.createlist();\n",
    "cout<<\"\\n Enter the elements of 2nd linked list \";\n",
    "ll2.createlist();\n",
    "\n"
   ]
  },
  {
   "cell_type": "code",
   "execution_count": 25,
   "metadata": {},
   "outputs": [],
   "source": [
    "struct node* ptr1 ;//making node type pointer to store head\n",
    "struct node* ptr2;\n",
    "ptr1=ll1.head;\n",
    "ptr2=ll2.head;\n"
   ]
  },
  {
   "cell_type": "code",
   "execution_count": 26,
   "metadata": {},
   "outputs": [],
   "source": [
    "//4) vi,vii Merge 2 LLs\n",
    "node* MergedConcatenate(node* x, node* y) //Function to merge the lements of two linked lists\n",
    "{\n",
    "node* result=NULL;\n",
    "if(x==NULL)\n",
    "return(y);\n",
    "else if(y==NULL)\n",
    "return(x);\n",
    "if(x->data<= y->data)\n",
    "{\n",
    "    result=x;\n",
    "result->next=MergedConcatenate(x->next,y);\n",
    "}\n",
    "else\n",
    "{\n",
    "result=y;\n",
    "result->next=MergedConcatenate(x,y->next);\n",
    "}\n",
    "return result;\n",
    "}\n",
    "node* merged=MergedConcatenate(ptr1,ptr2); // pointer to store the head of merged linked list\n"
   ]
  },
  {
   "cell_type": "code",
   "execution_count": 31,
   "metadata": {},
   "outputs": [
    {
     "name": "stdout",
     "output_type": "stream",
     "text": [
      "2 4 1 0 56  NULL"
     ]
    }
   ],
   "source": [
    "void displaymergedList() //Function to display the contents of the linked lists with merged elements\n",
    "{\n",
    "ptr=merged;\n",
    "while(ptr != NULL)\n",
    "{\n",
    "ptr = ptr->next;\n",
    "if(ptr==NULL)\n",
    "break;\n",
    "cout<< ptr->data <<\" \";\n",
    "}\n",
    "cout<<\" NULL\";\n",
    "}\n",
    "displaymergedList(); //Function calling\n"
   ]
  },
  {
   "cell_type": "code",
   "execution_count": 33,
   "metadata": {},
   "outputs": [
    {
     "name": "stdout",
     "output_type": "stream",
     "text": [
      "Reversed Linked list is \n",
      " 56 0 1 4 2 NULL"
     ]
    }
   ],
   "source": [
    "//4) viiiReverse the elements of a LL\n",
    "node* reverselist(node* head) //Function for reversing the contents of the linked list\n",
    "{\n",
    "if(head==NULL||head->next==NULL) //if the list is empty or contain just one element\n",
    "return head;\n",
    "node* temp=reverselist(head->next); //using recursive approach to reverse the list\n",
    "node* x= head->next;\n",
    "x->next=head;\n",
    "head->next=NULL;\n",
    "return temp;\n",
    "}\n",
    "node* reversed_list = reverselist(ptr1);\n",
    "cout<<\"Reversed Linked list is \\n \";\n",
    "// printing reversed list\n",
    "while(reversed_list!=NULL)\n",
    "{\n",
    "cout<<reversed_list->data<<\" \";\n",
    "reversed_list = reversed_list -> next;\n",
    "}\n",
    "cout<<\"NULL\";\n"
   ]
  },
  {
   "cell_type": "code",
   "execution_count": 34,
   "metadata": {},
   "outputs": [],
   "source": [
    "//4) ix\n",
    "class Node //created linked list node\n",
    "{\n",
    "public:\n",
    "int data; //for storing the values\n",
    "Node *next; //for storing the addresses of the next elements\n",
    "};\n"
   ]
  },
  {
   "cell_type": "code",
   "execution_count": 35,
   "metadata": {},
   "outputs": [],
   "source": [
    "void push(Node **headreference, int data)\n",
    "{\n",
    "Node *ptr1=new Node();\n",
    "Node *temp=*headreference;\n",
    "ptr1->data=data;\n",
    "ptr1->next=*headreference;\n",
    "//If linked list is not NULL\n",
    "if (*headreference!=NULL)\n",
    "{\n",
    "while (temp->next!=*headreference)\n",
    "temp=temp->next;\n",
    "temp->next=ptr1;\n",
    "}\n",
    "else\n",
    "ptr1->next=ptr1; //For the first node\n",
    "*headreference=ptr1;\n",
    "}\n"
   ]
  },
  {
   "cell_type": "code",
   "execution_count": 38,
   "metadata": {},
   "outputs": [
    {
     "name": "stdout",
     "output_type": "stream",
     "text": [
      "Enter number to be added \n",
      " 3\n",
      "How many more elements? \n",
      " 3\n",
      "Enter number to be added \n",
      " 1 5 8\n",
      "How many more elements? \n",
      " Enter number to be added \n",
      " How many more elements? \n",
      " 0\n",
      "Circular Linked list is \n",
      "  8 1 3 NULL"
     ]
    }
   ],
   "source": [
    "void display(Node *head) //function to display the elements of the circular linked list\n",
    "{\n",
    "Node *temp=head;\n",
    "if (head !=NULL)\n",
    "{\n",
    "do\n",
    "{\n",
    "cout << temp->data << \" \";\n",
    "temp = temp->next;\n",
    "}\n",
    "while (temp != head);\n",
    "}\n",
    "cout<<\"NULL\";\n",
    "}\n",
    "Node *head = NULL;\n",
    "int x = 1;\n",
    "while(x) //Loop to input the elements of the circular linked list\n",
    "{\n",
    "int a ;\n",
    "cout<<\"Enter number to be added \\n \"; //Created linked list\n",
    "cin>>a;\n",
    "cout<<\"How many more elements? \\n \";\n",
    "cin>>x;\n",
    "push(&head, a);\n",
    "}\n",
    "cout<<\"Circular Linked list is \\n  \"; //Printing the elements\n",
    "display(head);"
   ]
  },
  {
   "cell_type": "code",
   "execution_count": 39,
   "metadata": {},
   "outputs": [],
   "source": [
    "class Node //Construction of node\n",
    "{\n",
    "public:\n",
    "int data; //for storing values\n",
    "Node *next; //for storing the address of next elements\n",
    "    Node *prev; //for storing the address of previous elements\n",
    "};\n"
   ]
  },
  {
   "cell_type": "code",
   "execution_count": 40,
   "metadata": {},
   "outputs": [],
   "source": [
    "/* Function to reverse a Doubly Linked List */\n",
    "void reverse(Node **headreference)\n",
    "{\n",
    "Node *temp = NULL;\n",
    "Node *current = *headreference;\n",
    "/* swap next and prev for all nodes of\n",
    "doubly linked list */\n",
    "while (current != NULL)\n",
    "{\n",
    "temp = current->prev;\n",
    "current->prev = current->next;\n",
    "current->next = temp;\n",
    "current = current->prev;\n",
    "}\n",
    "/* Before changing the head, check for the cases like empty\n",
    "list and list with only one node */\n",
    "if(temp != NULL )\n",
    "*headreference = temp->prev;\n",
    "}\n"
   ]
  },
  {
   "cell_type": "code",
   "execution_count": 41,
   "metadata": {},
   "outputs": [],
   "source": [
    "/* Function to insert a node at the\n",
    "beginging of the Doubly Linked List */\n",
    "void push(Node** headreference, int new_data)\n",
    "{\n",
    "/* allocate node */\n",
    "Node* new_node = new Node();\n",
    "/* put in the data */\n",
    "new_node->data = new_data;\n",
    "/* since we are adding at the beginning,\n",
    "prev is always NULL */\n",
    "new_node->prev = NULL;\n",
    "/* link the old list off the new node*/\n",
    "new_node->next = (*headreference);\n",
    "/* change prev of head node to new node */\n",
    "if((*headreference) != NULL)\n",
    "(*headreference)->prev = new_node ;\n",
    "/* move the head to point to the new node*/\n",
    "(*headreference) = new_node;\n",
    "}\n"
   ]
  },
  {
   "cell_type": "code",
   "execution_count": 42,
   "metadata": {},
   "outputs": [],
   "source": [
    "// Function to print nodes in a given doubly linked list\n",
    "void display(Node *node)\n",
    "{\n",
    "while(node != NULL)\n",
    "{\n",
    "cout << node->data << \" \";\n",
    "node = node->next;\n",
    "}\n",
    "}\n"
   ]
  },
  {
   "cell_type": "code",
   "execution_count": 47,
   "metadata": {},
   "outputs": [
    {
     "name": "stdout",
     "output_type": "stream",
     "text": [
      "The contents of the Original Linked list: \n",
      " 6 9 3 2 \n",
      " The contents of the Reversed Linked list: \n",
      " 2 3 9 6 "
     ]
    }
   ],
   "source": [
    "Node* head = NULL;\n",
    "push(&head, 2);\n",
    "push(&head, 3);\n",
    "push(&head, 9);\n",
    "push(&head, 6);\n",
    "cout << \"The contents of the Original Linked list: \\n \"; //Printing the original doubly linked list \n",
    "display(head);\n",
    "// Reverse doubly linked list\n",
    "reverse(&head);\n",
    "cout << \"\\n The contents of the Reversed Linked list: \\n \"; //Printing the reversed list\n",
    "display(head);\n",
    "\n"
   ]
  },
  {
   "cell_type": "code",
   "execution_count": null,
   "metadata": {},
   "outputs": [],
   "source": []
  }
 ],
 "metadata": {
  "kernelspec": {
   "display_name": "C++17",
   "language": "C++17",
   "name": "xcpp17"
  },
  "language_info": {
   "codemirror_mode": "text/x-c++src",
   "file_extension": ".cpp",
   "mimetype": "text/x-c++src",
   "name": "c++",
   "version": "17"
  }
 },
 "nbformat": 4,
 "nbformat_minor": 4
}
