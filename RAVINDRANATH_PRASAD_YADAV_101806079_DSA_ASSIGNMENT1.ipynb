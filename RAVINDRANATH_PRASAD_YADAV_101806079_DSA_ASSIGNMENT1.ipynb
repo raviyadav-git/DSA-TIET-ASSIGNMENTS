{
 "cells": [
  {
   "cell_type": "code",
   "execution_count": 1,
   "metadata": {},
   "outputs": [],
   "source": [
    "//Lab Assignment 1 - UCS 406   Data Structures and Algorithms\n",
    "//RAVINDRANATH PRASAD YADAV_ROLL:101806079_ECE4 \n",
    "#include<iostream>\n",
    "using namespace std;         //Question-1"
   ]
  },
  {
   "cell_type": "code",
   "execution_count": 2,
   "metadata": {},
   "outputs": [
    {
     "name": "stdout",
     "output_type": "stream",
     "text": [
      "enter first number1\n",
      "enter last number20\n",
      "210"
     ]
    },
    {
     "data": {
      "text/plain": [
       "@0x7f1cca9ceb40"
      ]
     },
     "execution_count": 2,
     "metadata": {},
     "output_type": "execute_result"
    }
   ],
   "source": [
    "//Part - 1 sum of all the integers between \"first\" and \"last\" \n",
    "int first,last,sum=0,i;\n",
    "   cout<<\"enter first number\";//User input first number\n",
    "cin>>first;\n",
    " cout<<\"enter last number\"; //User input last number\n",
    "  cin>>last;\n",
    "    for(i=first;i<=last;i++)\n",
    "    {\n",
    "        sum=sum+i; //calculation of the sum from first numer to last number\n",
    "    }\n",
    "  cout<<sum; //display sum"
   ]
  },
  {
   "cell_type": "code",
   "execution_count": 6,
   "metadata": {},
   "outputs": [
    {
     "name": "stdout",
     "output_type": "stream",
     "text": [
      "enter the value of goal \n",
      "20\n",
      "7"
     ]
    }
   ],
   "source": [
    "//Part - 2 smallest positive integer n for which 1+2+3+...+n equals or exceeds the value of \"goal\".\n",
    "int goal;\n",
    "cout<<\"enter the value of goal \\n\";\n",
    "cin>> goal;  // user will set a value for goal\n",
    "int sum=0;\n",
    "int n;\n",
    "for ( n=1; sum<=goal; n++) // until sum value is less than goal\n",
    "{\n",
    "   sum=sum+n;  // sum equals to 1+2+3+...n \n",
    "}\n",
    "cout<<n; // n is the smallest positive integer n for which sum equals or exceeds the value of \"goal\".\n",
    "return n;\n"
   ]
  },
  {
   "cell_type": "code",
   "execution_count": 3,
   "metadata": {},
   "outputs": [
    {
     "name": "stdout",
     "output_type": "stream",
     "text": [
      "enter two numbers to find their greatest common divisor36\n",
      "16\n",
      "gcd is4"
     ]
    }
   ],
   "source": [
    "//part-3 greatest common divisor (g.c.d.) \n",
    "int num1,num2;\n",
    "int temp=0;\n",
    "cout<<\"enter two numbers to find their greatest common divisor\";\n",
    "cin>>num1>>num2;\n",
    "while(1)\n",
    "{\n",
    "if(num1==num2 ||num2==0)\n",
    "{\n",
    "    cout<<\"gcd is\"<<num1; // if numbers are equal , itself is a gcd\n",
    "    break;\n",
    "}\n",
    "else\n",
    " {\n",
    "    temp=num1;\n",
    "   num1= num1%num2;   //divisor = remainder\n",
    "    num2=temp;        //dividend = previous divisor (recursive)\n",
    "    \n",
    " }\n",
    "    \n",
    "}\n"
   ]
  },
  {
   "cell_type": "code",
   "execution_count": 2,
   "metadata": {
    "scrolled": true
   },
   "outputs": [
    {
     "name": "stdout",
     "output_type": "stream",
     "text": [
      "enter an integer to check if it is prime \n",
      "53\n",
      "number is not prime"
     ]
    }
   ],
   "source": [
    "//part- 4  check if prime.\n",
    "int n,flag=0;\n",
    "cout<<\"enter an integer to check if it is prime \\n\";\n",
    "cin>>n;\n",
    "if(n==0  ||  n==1)\n",
    "cout<<\"The  number  is  not  prime\"<<endl;\n",
    "\n",
    "for (int i=2; i< n/2; i++) // checking divisibility from 2 to half of the number\n",
    "{\n",
    "    if(n%i==0)\n",
    "    {\n",
    "      flag=1;\n",
    "        break;\n",
    "    }\n",
    "}\n",
    "if(flag==1)\n",
    "     cout<<\"number is prime\";\n",
    "else\n",
    "    cout<<\"number is not prime\";"
   ]
  },
  {
   "cell_type": "code",
   "execution_count": 3,
   "metadata": {},
   "outputs": [
    {
     "name": "stdout",
     "output_type": "stream",
     "text": [
      "Enter  value  of  the  digit  \n",
      "7\n",
      "seven\n"
     ]
    }
   ],
   "source": [
    "//part-5 English name of an integer from 1 to 9.\n",
    "void EnglishName()\n",
    "{\n",
    "int digit;\n",
    "cout<<\"Enter  value  of  the  digit  \"<<endl; cin>>digit; // inputs value of the digit\n",
    "switch(digit) //switch case for computing the result\n",
    "{\n",
    "case 1:  cout<<\"one\"<<endl;\n",
    "break;\n",
    "case 2:  cout<<\"two\"<<endl;\n",
    "break;\n",
    "case 3:  cout<<\"three\"<<endl;\n",
    "break;\n",
    "case 4:  cout<<\"four\"<<endl;\n",
    "break;\n",
    "case 5:  cout<<\"five\"<<endl;\n",
    "break;\n",
    "case 6:  cout<<\"six\"<<endl;\n",
    "break;\n",
    "case 7:  cout<<\"seven\"<<endl;\n",
    "break;\n",
    "case 8:  cout<<\"eight\"<<endl;\n",
    "break;\n",
    "case 9:  cout<<\"nine\"<<endl;\n",
    "break;\n",
    "default:  cout<<\"Enter  a  number  between  1  &  9\"<<endl;\n",
    "}\n",
    "}\n",
    "EnglishName(); //Function calling"
   ]
  },
  {
   "cell_type": "code",
   "execution_count": 2,
   "metadata": {},
   "outputs": [
    {
     "name": "stdout",
     "output_type": "stream",
     "text": [
      "enter size of array \n",
      " 5\n",
      "enter the elements into array \n",
      "5\n",
      "6\n",
      "7\n",
      "8\n",
      "9\n",
      "9\t8\t7\t6\t5\t"
     ]
    }
   ],
   "source": [
    "// part 6 Reverses the order of the objects in an array.\n",
    "void ReverseArray() //function definition\n",
    "{\n",
    "    int arr[50],size, i, temp=0;\n",
    "    cout<<\"enter size of array \\n \";\n",
    "    cin>>size;\n",
    "    cout<<\"enter the elements into array \\n\";\n",
    "    for(i=0; i<size; i++)\n",
    "    {\n",
    "        cin>>arr[i];\n",
    "    }\n",
    "   int j=i-1;  // assigning j the value size-1\n",
    "    i=0; // to start reverse from position 1\n",
    "    while(i<j)\n",
    "    {\n",
    "        temp=arr[i];  // reversing elements at i and j position\n",
    "        arr[i]=arr[j];\n",
    "        arr[j]=temp;\n",
    "        i++;  // increment posiiton i\n",
    "        j--;  /// decrement position j\n",
    "        \n",
    "    }\n",
    "    for (i=0; i<size; i++)\n",
    "    {\n",
    "        cout<<arr[i]<<\"\\t\";  // print\n",
    "    }\n",
    "}\n",
    "ReverseArray(); // function call"
   ]
  },
  {
   "cell_type": "code",
   "execution_count": 2,
   "metadata": {},
   "outputs": [
    {
     "name": "stdout",
     "output_type": "stream",
     "text": [
      "Enter  the  size  of  the  array \n",
      " 5\n",
      "Enter  the  elements \n",
      " 100\n",
      "500\n",
      "400\n",
      "200\n",
      "300\n",
      "The  largest  number is 500  at  the position  1\n"
     ]
    }
   ],
   "source": [
    "// part- 7 index of the largest number \n",
    "int arr[50],size,largest=0;\n",
    "int i;\n",
    "cout<<\"Enter  the  size  of  the  array \\n \";\n",
    "cin>>size;  \n",
    "cout<<\"Enter  the  elements \\n \";\n",
    "for(i=0;i<size;i++)\n",
    "{\n",
    "cin>>arr[i];  //Entering the elements into the array\n",
    "}\n",
    "int position=0;     // since index starts at 0\n",
    "largest=arr[0];\n",
    "for(i=0; i<size; i++)\n",
    "{\n",
    "    if(arr[i]> largest)    // finiding largest number\n",
    "    {   largest=arr[i];\n",
    "    position=i;          // saving  the position of largest number\n",
    "    }\n",
    "}\n",
    "\n",
    "cout<<\"The  largest  number is \"<<largest<<\"  at  the position  \"<<position<<endl;"
   ]
  },
  {
   "cell_type": "code",
   "execution_count": 4,
   "metadata": {},
   "outputs": [
    {
     "name": "stdout",
     "output_type": "stream",
     "text": [
      "Enter  the  size  of  the  array \n",
      " 5\n",
      "Enter  the  elements \n",
      " 10\n",
      "20\n",
      "30\n",
      "40\n",
      "50\n",
      "50\t10\t20\t30\t40\t"
     ]
    }
   ],
   "source": [
    "// part -8 Shift the contents one cell to the right,& last cell's content to left end.\n",
    "int arr[50],size;\n",
    "int i;\n",
    "cout<<\"Enter  the  size  of  the  array \\n \";\n",
    "cin>>size;  \n",
    "cout<<\"Enter  the  elements \\n \";\n",
    "for(i=0;i<size;i++)\n",
    "{\n",
    "cin>>arr[i];  //Entering the elements into the array\n",
    "}\n",
    "int last=arr[size-1];\n",
    "int temp=0;\n",
    "for(i=size; i>0; i--)\n",
    "{\n",
    "    arr[i]=arr[i-1];  // shifting elements one position to right\n",
    "}\n",
    "arr[0]=last;   // last element to the first position\n",
    "  for (i=0; i<size; i++)\n",
    "    {\n",
    "        cout<<arr[i]<<\"\\t\";  // print new array shifted\n",
    "    }"
   ]
  },
  {
   "cell_type": "code",
   "execution_count": 3,
   "metadata": {},
   "outputs": [
    {
     "name": "stdout",
     "output_type": "stream",
     "text": [
      "Enter  the  size  of  the  array \n",
      " 8\n",
      "Enter  the  elements \n",
      " 1\n",
      "2\n",
      "1\n",
      "3\n",
      "5\n",
      "6\n",
      "5\n",
      "4\n",
      "\n",
      " array without duplicate values \n",
      "1\t2\t3\t5\t6\t4\t"
     ]
    }
   ],
   "source": [
    "//part 9 eliminates all duplicate values\n",
    "int a[50],size;\n",
    "int i,j;\n",
    "cout<<\"Enter  the  size  of  the  array \\n \";\n",
    "cin>>size;  \n",
    "cout<<\"Enter  the  elements \\n \";\n",
    "for(i=0;i<size;i++)\n",
    "{\n",
    "cin>>a[i];  //Entering the elements into the array\n",
    "}\n",
    "for (i=0; i< size; i++)  // checking on element to all the elements\n",
    "{\n",
    "    for(j=i+1; j<size;j++)\n",
    "    {\n",
    "        if(a[j]==a[i])  // if duplicate value found\n",
    "        {\n",
    "            for(int k=j; k<size; k++)\n",
    "            {\n",
    "                a[k]=a[k+1];\n",
    "            }\n",
    "            size--;\n",
    "        }    \n",
    "    }\n",
    "}\n",
    "cout<<\"\\n array without duplicate values \\n\";\n",
    "for (i=0; i<size; i++)\n",
    "    {\n",
    "        cout<<a[i]<<\"\\t\";  // print new array without duplicate values\n",
    "    }"
   ]
  },
  {
   "cell_type": "code",
   "execution_count": 2,
   "metadata": {
    "scrolled": true
   },
   "outputs": [
    {
     "name": "stdout",
     "output_type": "stream",
     "text": [
      "Enter  the  size  of  the  array 1 \n",
      " 4\n",
      "Enter  the  size  of  the  array 2 \n",
      " 3\n",
      "Enter  the  elements in first array \n",
      " 1\n",
      "2\n",
      "3\n",
      "4\n",
      "Enter  the  elements in second array \n",
      " 100\n",
      "200\n",
      "300\n",
      "1\t2\t3\t4\t100\t200\t300\t"
     ]
    }
   ],
   "source": [
    "// part 10  Copies numbers from two arrays into a third array\n",
    "int a[50],b[50],c[50],size1,size2,size;\n",
    "int i,j;\n",
    "cout<<\"Enter  the  size  of  the  array 1 \\n \";\n",
    "cin>>size1;  \n",
    "cout<<\"Enter  the  size  of  the  array 2 \\n \";\n",
    "cin>>size2;  \n",
    "cout<<\"Enter  the  elements in first array \\n \";\n",
    "for(i=0;i<size1;i++)\n",
    "{\n",
    "cin>>a[i];  //Entering the elements into the  1st array\n",
    "}\n",
    "cout<<\"Enter  the  elements in second array \\n \";\n",
    "for(i=0;i<size2;i++)\n",
    "{\n",
    "cin>>b[i];  //Entering the elements into the 2 nd array\n",
    "}\n",
    "size= size1+size2; // adding size of both arrays\n",
    "for(i=0; i<size1; i++)\n",
    "{\n",
    "    c[i]= a[i];   // moving first array into 3rd array\n",
    "}\n",
    " i=0; \n",
    "for(j=size1; j<size; j++)\n",
    "{   \n",
    "    c[j]= b[i];   // moving second array into 3rd array\n",
    "    i++;\n",
    "}\n",
    " for (i=0; i<size; i++)\n",
    "    {\n",
    "        cout<<c[i]<<\"\\t\";  // print new array \n",
    "    }"
   ]
  },
  {
   "cell_type": "markdown",
   "metadata": {},
   "source": [
    "question 1 finished\n",
    "\n"
   ]
  },
  {
   "cell_type": "code",
   "execution_count": 2,
   "metadata": {},
   "outputs": [
    {
     "name": "stdout",
     "output_type": "stream",
     "text": [
      "Enter  the  size  of  the  array \n",
      " 5\n",
      "Enter  the  elements \n",
      " 1\n",
      "2\n",
      "5\n",
      "10\n",
      "100\n",
      "element found at position \t 2\n",
      " sum of all elements \t 118\n",
      " largest element \t100"
     ]
    }
   ],
   "source": [
    "// QUESTION 2  sum of all elements ;maximum of elements ;linear search \n",
    "int a[50],size;\n",
    "int i,j,sum=0, largest=0, search =5, found=0;\n",
    "cout<<\"Enter  the  size  of  the  array \\n \";\n",
    "cin>>size;  \n",
    "cout<<\"Enter  the  elements \\n \";\n",
    "for(i=0;i<size;i++)\n",
    "{\n",
    "cin>>a[i];  //Entering the elements into the array\n",
    "}\n",
    "largest=a[0]; // index starts at 0\n",
    "for(i=0;i<size;i++)\n",
    "{\n",
    "sum=sum+a[i]; // sum of all elements\n",
    "    if(a[i]>largest)\n",
    "    {\n",
    "        largest=a[i];  // finding largest\n",
    "    }\n",
    "    if(a[i]==search)  // linear search\n",
    "    {\n",
    "        cout<< \"element found at position \\t \"<<i; \n",
    "    }\n",
    "}\n",
    "cout<<\"\\n sum of all elements \\t \"<<sum;\n",
    "cout<<\"\\n largest element \\t\"<<largest;"
   ]
  },
  {
   "cell_type": "code",
   "execution_count": 8,
   "metadata": {
    "scrolled": true
   },
   "outputs": [
    {
     "name": "stdout",
     "output_type": "stream",
     "text": [
      "Enter  the  number  of  rows \n",
      " 3\n",
      "Enter  the  number  of  columns \n",
      " 3\n",
      "Enter  the  elements  of  the  first 2d  array  \n",
      "1\n",
      "2\n",
      "3\n",
      "4\n",
      "\n",
      "5\n",
      "6\n",
      "7\n",
      "8\n",
      "9\n",
      "Enter  the  elements  of  the  second  array \n",
      "1\n",
      "2\n",
      "3\n",
      "1\n",
      "2\n",
      "3\n",
      "1\n",
      "2\n",
      "3\n",
      "The  sum  of  the  arrays  is  \n",
      "2 4 6 \n",
      " 5 7 9 \n",
      " 8 10 12 \n",
      " The  difference  of  the  arrays  is \n",
      "  0 0 0 \n",
      "3 3 3 \n",
      "6 6 6 \n"
     ]
    }
   ],
   "source": [
    "// Question 3 adding and subtracting Matrices using 2D Arrays\n",
    "int Sum_Difference()\n",
    "{\n",
    "int a[50][50],b[50][50];\n",
    "int sum[50][50],diff[50][50];\n",
    "int i,j,m, n;\n",
    "cout<<\"Enter  the  number  of  rows \\n \";\n",
    "cin>>m;\n",
    "cout<<\"Enter  the  number  of  columns \\n \"; \n",
    "cin>>n;\n",
    "cout<<\"Enter  the  elements  of  the  first 2d  array  \\n\";\n",
    "for(i=0;i<m;i++)\n",
    "{\n",
    "    for(j=0;j<n;j++)\n",
    "        {\n",
    "            cin>>a[i][j]; //Entering elements into first 2D array\n",
    "        }\n",
    "}\n",
    "    \n",
    "cout<<\"Enter  the  elements  of  the  second  array \\n\";\n",
    "    \n",
    "for(i=0;i<m;i++)\n",
    "{\n",
    "    for(int j=0;j<n;j++)\n",
    "        {\n",
    "            cin>>b[i][j]; //Entering elements into second 2D array\n",
    "        }\n",
    "}\n",
    "    \n",
    "for(i=0;i<m;i++)\n",
    "{\n",
    "    for( j=0;j<n;j++)\n",
    "    {\n",
    "        sum[i][j]=a[i][j]+b[i][j]; // sum of arrays\n",
    "        diff[i][j]=a[i][j]-b[i][j];// difference of arrays\n",
    "    }\n",
    "}\n",
    "    cout<<\"The  sum  of  the  arrays  is  \\n\";\n",
    "    for(i=0;i<m;i++)\n",
    "    {\n",
    "        for(j=0;j<n;j++)\n",
    "            {\n",
    "                cout<<sum[i][j]<<\" \";  // print new sum array\n",
    "            }\n",
    "    cout<<\"\\n \";\n",
    "    }\n",
    "    cout<<\"The  difference  of  the  arrays  is \\n  \";\n",
    "    for(i=0;i<m;i++)\n",
    "    {\n",
    "        for(j=0;j<n;j++)\n",
    "            {\n",
    "                cout<<diff[i][j]<<\" \";  // print new difference array\n",
    "            }\n",
    "        cout<<\"\\n\";\n",
    "    }\n",
    "return 0;\n",
    "}\n",
    "Sum_Difference();"
   ]
  },
  {
   "cell_type": "markdown",
   "metadata": {},
   "source": [
    "question 3 completed\n"
   ]
  },
  {
   "cell_type": "markdown",
   "metadata": {},
   "source": [
    "question 4\n"
   ]
  },
  {
   "cell_type": "code",
   "execution_count": 3,
   "metadata": {},
   "outputs": [
    {
     "name": "stdout",
     "output_type": "stream",
     "text": [
      "enter elements into first arrayenter elements into second arrayMatrix  A  is  :  \n",
      "2  2  2  2  2  2  2  2  2  2  \n",
      "2  2  2  2  2  2  2  2  2  2  \n",
      "2  2  2  2  2  2  2  2  2  2  \n",
      "2  2  2  2  2  2  2  2  2  2  \n",
      "2  2  2  2  2  2  2  2  2  2  \n",
      "2  2  2  2  2  2  2  2  2  2  \n",
      "2  2  2  2  2  2  2  2  2  2  \n",
      "2  2  2  2  2  2  2  2  2  2  \n",
      "2  2  2  2  2  2  2  2  2  2  \n",
      "2  2  2  2  2  2  2  2  2  2  \n",
      "Matrix  B  is  :  \n",
      "5  5  5  5  5  5  5  5  5  5  \n",
      "5  5  5  5  5  5  5  5  5  5  \n",
      "5  5  5  5  5  5  5  5  5  5  \n",
      "5  5  5  5  5  5  5  5  5  5  \n",
      "5  5  5  5  5  5  5  5  5  5  \n",
      "5  5  5  5  5  5  5  5  5  5  \n",
      "5  5  5  5  5  5  5  5  5  5  \n",
      "5  5  5  5  5  5  5  5  5  5  \n",
      "5  5  5  5  5  5  5  5  5  5  \n",
      "5  5  5  5  5  5  5  5  5  5  \n",
      "\n",
      "multiplication Matrix:  \n",
      " 100 100 100 100 100 100 100 100 100 100\n",
      " 100 100 100 100 100 100 100 100 100 100\n",
      " 100 100 100 100 100 100 100 100 100 100\n",
      " 100 100 100 100 100 100 100 100 100 100\n",
      " 100 100 100 100 100 100 100 100 100 100\n",
      " 100 100 100 100 100 100 100 100 100 100\n",
      " 100 100 100 100 100 100 100 100 100 100\n",
      " 100 100 100 100 100 100 100 100 100 100\n",
      " 100 100 100 100 100 100 100 100 100 100\n",
      " 100 100 100 100 100 100 100 100 100 100\n"
     ]
    },
    {
     "data": {
      "text/plain": [
       "0"
      ]
     },
     "execution_count": 3,
     "metadata": {},
     "output_type": "execute_result"
    }
   ],
   "source": [
    "// question 4  multiply 2 matrices (10 x 10)\n",
    "int Multiply()\n",
    "{\n",
    "int a[10][10], b[10][10], mult[10][10];  \n",
    "int r1 = 10, c1 = 10, r2 = 10, c2 = 10; // defing rows and columns for 10  x 10 \n",
    "int i, j, k;\n",
    "    \n",
    "cout<<\"enter elements into first array\";  \n",
    "for(i  =  0;  i  <  r1;  ++i) // Storing elements of first matrix.\n",
    "    for(j  =  0;  j  <  c1;  ++j)\n",
    "        {\n",
    "            a[i][j]=2;\n",
    "        }\n",
    "    \n",
    "cout<<\"enter elements into second array\";   \n",
    "for(i  =  0;  i  <  r2;  ++i) // Storing elements of second matrix.\n",
    "    for(j  =  0;  j  <  c2;  ++j)\n",
    "       {\n",
    "        b[i][j]=5 ;\n",
    "        }\n",
    "    \n",
    "for(i  =  0;  i  <  r1;  ++i)// Initializing elements of multiplication matrix with 0\n",
    "for(j  =  0;  j  <  c1;  ++j)\n",
    "    {\n",
    "     mult[i][j]=0;\n",
    "     }\n",
    "    \n",
    "for(i  =  0;  i  <  r1;  ++i)// Multiplying matrix a and b into another matrix\n",
    "for(j  =  0;  j  <  c1;  ++j)\n",
    "for(k = 0; k < c1; ++k)\n",
    "{\n",
    "  mult[i][j] += a[i][k] * b[k][j];  // multiplying each element of respective column and adding it to the respective position\n",
    "}\n",
    "    \n",
    "cout<<\"Matrix  A  is  :  \\n\";\n",
    "for(i  =  0;  i  <  r2;  ++i)\n",
    "{                              //Display elements of first matrix.\n",
    "   for(j  =  0;  j  <  c2;  ++j)\n",
    "    {\n",
    "        cout<<a[i][j]<<\"  \"  ;\n",
    "    }\n",
    "  cout<<\"\\n\";\n",
    "}\n",
    "    \n",
    "cout<<\"Matrix  B  is  :  \\n\";\n",
    "for(i  =  0;  i  <  r2;  ++i)\n",
    "{                             //Display elements of second matrix.\n",
    "    for(j  =  0;  j  <  c2;  ++j)\n",
    "    {\n",
    "        cout<<b[i][j]<<\"  \"  ;\n",
    "     }\n",
    " cout<<\"\\n\";\n",
    "}\n",
    "\n",
    "cout <<  endl <<  \"multiplication Matrix:  \" << endl;// Displaying the multiplication of two matrix.\n",
    "for(i  =  0;  i  <  r1;  ++i)\n",
    "    for(j  =  0;  j  <  c2;  ++j)\n",
    "      {\n",
    "        cout << \" \" << mult[i][j];\n",
    "            if(j == c2-1)\n",
    "       cout << endl;\n",
    "       }\n",
    "    return 0;\n",
    "}\n",
    "Multiply(); //Function call"
   ]
  },
  {
   "cell_type": "code",
   "execution_count": 4,
   "metadata": {},
   "outputs": [
    {
     "name": "stdout",
     "output_type": "stream",
     "text": [
      "Enter  the  size  of  the  array \n",
      " 6\n",
      "Enter  the  elements \n",
      " 1\n",
      "2\n",
      "10\n",
      "20\n",
      "100\n",
      "200\n"
     ]
    }
   ],
   "source": [
    "// question 5 Linear Search using Functions\n",
    "int flag=0, position=0;\n",
    "int a[50],size, searchh;\n",
    "int i;\n",
    "\n",
    "cout<<\"Enter  the  size  of  the  array \\n \";\n",
    "cin>>size;  \n",
    "cout<<\"Enter  the  elements \\n \";\n",
    "for(i=0;i<size;i++)\n",
    "{\n",
    "cin>>a[i];  //Entering the elements into the array\n",
    "}"
   ]
  },
  {
   "cell_type": "code",
   "execution_count": 5,
   "metadata": {},
   "outputs": [],
   "source": [
    "int LinearSearch(int a[],int size,int search) // passing array, size(array) , and element to search\n",
    "{\n",
    "    for(int i=0; i< size ; i++)\n",
    "    {\n",
    "        if(a[i]==searchh) // linear search\n",
    "        {   flag=1;\n",
    "        position= i;  // position at which element is found\n",
    "        }\n",
    "    }\n",
    "   if( flag==1)\n",
    "   {\n",
    "       cout<<\"element found at position \"<<position;\n",
    "   }\n",
    "    else \n",
    "        cout<<\"element not found\";\n",
    "return 0;\n",
    "}\n",
    "\n"
   ]
  },
  {
   "cell_type": "code",
   "execution_count": 6,
   "metadata": {
    "scrolled": false
   },
   "outputs": [
    {
     "name": "stdout",
     "output_type": "stream",
     "text": [
      "enter the number to search \n",
      " 20\n"
     ]
    }
   ],
   "source": [
    "\n",
    "cout<<\"enter the number to search \\n \";\n",
    "cin>>searchh;\n"
   ]
  },
  {
   "cell_type": "code",
   "execution_count": 7,
   "metadata": {},
   "outputs": [
    {
     "name": "stdout",
     "output_type": "stream",
     "text": [
      "element found at position 3"
     ]
    }
   ],
   "source": [
    "LinearSearch(a,size, searchh);"
   ]
  },
  {
   "cell_type": "code",
   "execution_count": 2,
   "metadata": {},
   "outputs": [
    {
     "name": "stdout",
     "output_type": "stream",
     "text": [
      "\n",
      " enter length of rectangle10\n",
      "\n",
      " enter breadth of rectangle2\n",
      "\n",
      " perimeter is \t24\n",
      " area is \t20"
     ]
    }
   ],
   "source": [
    "// question 6 class rectangle , call member function area and perimeter\n",
    "class rectangle // class name rectangle\n",
    "{\n",
    "    public:\n",
    "    float length , breadth;\n",
    "    void perimeter(float l , float b) // member function1\n",
    "    {\n",
    "        float perimeter;\n",
    "        perimeter=2*(l+b);  // calculating perimeter of rectangle\n",
    "        cout<<\"\\n perimeter is \\t\" <<perimeter;      \n",
    "    }   \n",
    "    void area(float l, float b) // member function2\n",
    "    {\n",
    "        float area;\n",
    "        area=l*b;\n",
    "        cout<<\"\\n area is \\t\"<<area;\n",
    "    }\n",
    "};\n",
    "rectangle obj; // creating object obj of class rectangle\n",
    "cout<<\"\\n enter length of rectangle\";\n",
    "cin>>obj.length;     //entering length\n",
    "cout<<\"\\n enter breadth of rectangle\";   // entering breadth\n",
    "cin>>obj.breadth;\n",
    "obj.perimeter(obj.length, obj.breadth); // calling member function passing length and breadth\n",
    "obj.area(obj.length, obj.breadth);"
   ]
  },
  {
   "cell_type": "code",
   "execution_count": null,
   "metadata": {},
   "outputs": [],
   "source": []
  }
 ],
 "metadata": {
  "kernelspec": {
   "display_name": "C++14",
   "language": "C++14",
   "name": "xcpp14"
  },
  "language_info": {
   "codemirror_mode": "text/x-c++src",
   "file_extension": ".cpp",
   "mimetype": "text/x-c++src",
   "name": "c++",
   "version": "14"
  }
 },
 "nbformat": 4,
 "nbformat_minor": 4
}
